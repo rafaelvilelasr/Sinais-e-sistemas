{
 "cells": [
  {
   "cell_type": "code",
   "execution_count": 682,
   "metadata": {},
   "outputs": [],
   "source": [
    "import numpy as np\n",
    "import math\n",
    "from numpy.random import randint\n",
    "\n",
    "from qiskit import *\n",
    "from qiskit import QuantumCircuit, QuantumRegister, ClassicalRegister, execute, BasicAer, IBMQ, Aer\n",
    "\n",
    "from qiskit.visualization import plot_histogram, plot_bloch_vector, plot_bloch_multivector\n",
    "from qiskit.extensions import Initialize\n",
    "\n",
    "from qiskit.quantum_info import partial_trace\n",
    "\n"
   ]
  },
  {
   "cell_type": "code",
   "execution_count": 683,
   "metadata": {},
   "outputs": [
    {
     "data": {
      "image/png": "[encoded data removed]",
      "text/plain": [
       "<Figure size 441.632x204.68 with 1 Axes>"
      ]
     },
     "metadata": {},
     "output_type": "display_data"
    }
   ],
   "source": [
    "q = QuantumCircuit(2,2)\n",
    "\n",
    "def Ua(qc,qubit,cbit1,cbit2):\n",
    "    if cbit2 == 0:\n",
    "        if cbit1 == 1:\n",
    "            qc.x(qubit)\n",
    "    else:\n",
    "        if cbit1 == 0:\n",
    "            qc.h(qubit)\n",
    "        else:\n",
    "            qc.x(qubit)\n",
    "            qc.h(qubit)\n",
    "            qc.barrier()\n",
    "            \n",
    "Ua(q,0,1,1)\n",
    "display(qc.draw(output='mpl'))\n"
   ]
  },
  {
   "cell_type": "code",
   "execution_count": 684,
   "metadata": {},
   "outputs": [
    {
     "data": {
      "image/png": "[encoded data removed]",
      "text/plain": [
       "<Figure size 441.632x204.68 with 1 Axes>"
      ]
     },
     "metadata": {},
     "output_type": "display_data"
    }
   ],
   "source": [
    "def Ub(qc,qubit,cbit):\n",
    "    if cbit == 1:\n",
    "        qc.h(qubit)\n",
    "        qc.measure(0,0)\n",
    "        qc.barrier()\n",
    "    else:\n",
    "        qc.measure(0,0)\n",
    "        qc.barrier()\n",
    "        \n",
    "Ub(q,0,1)\n",
    "display(qc.draw(output='mpl'))        "
   ]
  },
  {
   "cell_type": "code",
   "execution_count": 685,
   "metadata": {},
   "outputs": [],
   "source": [
    "############ parte 1 protocolo\n",
    "############ parte 1 protocolo\n",
    "############ parte 1 protocolo\n"
   ]
  },
  {
   "cell_type": "code",
   "execution_count": 687,
   "metadata": {},
   "outputs": [],
   "source": [
    "def codificar(qubit, bits, bases):\n",
    "    mensagem = []\n",
    "    for i in range(len(bits)):\n",
    "        qc = QuantumCircuit(2,2)\n",
    "        Ua(qc,qubit,bits[i],bases[i])\n",
    "\n",
    "        mensagem.append(qc)\n",
    "    return mensagem\n",
    "\n",
    "def medir_mensagem(qubit, mensagem, bases):\n",
    "    backend = Aer.get_backend('qasm_simulator')\n",
    "    medicoes = []\n",
    "    for i in range(len(bases)):\n",
    "        Ub(mensagem[i],qubit,bases[i])\n",
    "        result = execute(mensagem[i], backend, shots=1000, memory=True).result()\n",
    "        bit_medido = int(result.get_memory()[0])\n",
    "        medicoes.append(bit_medido)\n",
    "    return medicoes\n",
    "\n",
    "def remover_errados(a_bases, b_bases, bits):\n",
    "    bits_certos = []\n",
    "    for i in range(len(bits)):\n",
    "        if a_bases[i] == b_bases[i]:\n",
    "            bits_certos.append(bits[i])\n",
    "    return bits_certos\n",
    "\n",
    "def escolha_bits(bits, selecionado):\n",
    "    escolha = []\n",
    "    for i in selecionado:\n",
    "\n",
    "        i = np.mod(i, len(bits))\n",
    "        escolha.append(bits.pop(i))\n",
    "    return escolha\n",
    "\n",
    "def erro(b1, b2, size):\n",
    "    e1 = []\n",
    "    e2 = []\n",
    "    n = 0\n",
    "    for i in range(len(b1)):\n",
    "        if b1[i] != b2[i]:\n",
    "            n = +1\n",
    "    for i in size:\n",
    "        i = np.mod(i, len(b1))\n",
    "        e1.append(b1.pop(i))\n",
    "    for i in size:\n",
    "        i = np.mod(i, len(b2))\n",
    "        e2.append(b2.pop(i))\n",
    "    error = 100-100*((len(b1) - n)/(len(b1)))\n",
    "    print('Erro = ' + str(error))\n",
    "    return e1, e2"
   ]
  },
  {
   "cell_type": "code",
   "execution_count": 688,
   "metadata": {},
   "outputs": [],
   "source": []
  },
  {
   "cell_type": "code",
   "execution_count": 692,
   "metadata": {},
   "outputs": [],
   "source": [
    "#####fim funcoes"
   ]
  },
  {
   "cell_type": "code",
   "execution_count": 693,
   "metadata": {},
   "outputs": [
    {
     "name": "stdout",
     "output_type": "stream",
     "text": [
      "Erro = 0.0\n",
      " alice = [0, 1, 0, 0, 0, 1, 1, 0, 0, 1, 1, 1, 1, 1, 1, 0, 0, 1, 0, 0]\n",
      " bob = [0, 1, 0, 0, 0, 1, 1, 0, 0, 1, 1, 1, 1, 1, 1, 0, 0, 1, 0, 0]\n"
     ]
    }
   ],
   "source": [
    "np.random.seed(seed = 2)\n",
    "n = 100\n",
    "\n",
    "\n",
    "b1 = randint(2, size=n)  # bits alice\n",
    "alicebases = randint(2, size=n)\n",
    "mensagem = codificar(0, b1, alicebases)  #codifica\n",
    "\n",
    "bobbases = randint(2, size=n)  #base escolhida por bob\n",
    "bobresults = medir_mensagem(0, mensagem, bobbases) #medicao pelo bob\n",
    "\n",
    "alicekey = remover_errados(alicebases, bobbases, b1)\n",
    "bobkey = remover_errados(alicebases, bobbases, bobresults)\n",
    "\n",
    "p = 20  #amostra\n",
    "\n",
    "selecaobit = randint(n, size = p)\n",
    "\n",
    "mostraalice, mostrabob = erro(alicekey, bobkey, selecaobit)\n",
    "print(\" alice = \" + str(mostraalice))\n",
    "print(\" bob = \" + str(mostrabob))"
   ]
  },
  {
   "cell_type": "code",
   "execution_count": 694,
   "metadata": {},
   "outputs": [],
   "source": [
    "######################## parte 2 - interceptação\n",
    "######################## parte 2 - interceptação\n",
    "######################## parte 2 - interceptação\n",
    "######################## parte 2 - interceptação\n",
    "######################## parte 2 - interceptação"
   ]
  },
  {
   "cell_type": "code",
   "execution_count": 695,
   "metadata": {},
   "outputs": [
    {
     "name": "stdout",
     "output_type": "stream",
     "text": [
      "Erro = 2.3809523809523796\n",
      " alice = [1, 1, 0, 0, 1, 0, 0, 0, 0, 0]\n",
      " bob = [1, 1, 1, 0, 1, 0, 0, 1, 0, 0]\n"
     ]
    }
   ],
   "source": [
    "np.random.seed(seed = 3)\n",
    "b1 = randint(2, size=n)  # bits alice\n",
    "alicebases = randint(2, size=n)\n",
    "mensagem = codificar(0, b1, alicebases)\n",
    "\n",
    "evabases = randint(2, size=n)\n",
    "evamensagem = medir_mensagem(0,mensagem,evabases)\n",
    "\n",
    "bobbases = randint(2, size=n)\n",
    "bobresults = medir_mensagem(1, mensagem, bobbases)\n",
    "\n",
    "alicekey = remover_errados(alicebases, bobbases, b1)\n",
    "bobkey = remover_errados(alicebases, bobbases, bobresults)\n",
    "\n",
    "\n",
    "p = 10  #amostra\n",
    "\n",
    "selecaobit = randint(n, size = p)\n",
    "\n",
    "mostraalice, mostrabob = erro(alicekey, bobkey, selecaobit)\n",
    "print(\" alice = \" + str(mostraalice))\n",
    "print(\" bob = \" + str(mostrabob))"
   ]
  },
  {
   "cell_type": "code",
   "execution_count": 698,
   "metadata": {},
   "outputs": [],
   "source": [
    "def xor(b1,b2):\n",
    "    b = b1 + b2\n",
    "    return b%2\n",
    "    \n",
    "def fxor(key):\n",
    "    new_key = []\n",
    "    i = 0\n",
    "    while i < (len(key)-1):\n",
    "        result = xor(key[i],key[i+1])\n",
    "        new_key.append(result)\n",
    "        i= i + 2\n",
    "    return new_key"
   ]
  },
  {
   "cell_type": "code",
   "execution_count": 699,
   "metadata": {},
   "outputs": [
    {
     "name": "stdout",
     "output_type": "stream",
     "text": [
      "Erro = 2.3809523809523796\n",
      " alice = [1, 1, 0, 0, 1, 0, 0, 0, 0, 0]\n",
      " bob = [1, 1, 1, 0, 1, 1, 0, 0, 1, 0]\n"
     ]
    }
   ],
   "source": [
    "np.random.seed(seed = 3)\n",
    "b1 = randint(2, size=n)  # bits alice\n",
    "alicebases = randint(2, size=n)\n",
    "mensagem = codificar(0, b1, alicebases)\n",
    "\n",
    "evabases = randint(2, size=n)\n",
    "evamensagem = medir_mensagem(0,mensagem,evabases)\n",
    "\n",
    "bobbases = randint(2, size=n)\n",
    "bobresults = medir_mensagem(1, mensagem, bobbases)\n",
    "\n",
    "alicekey = remover_errados(alicebases, bobbases, b1)\n",
    "bobkey = remover_errados(alicebases, bobbases, bobresults)\n",
    "\n",
    "\n",
    "p = 10  #amostra\n",
    "\n",
    "selecaobit = randint(n, size = p)\n",
    "\n",
    "mostraalice, mostrabob = erro(alicekey, bobkey, selecaobit)\n",
    "print(\" alice = \" + str(mostraalice))\n",
    "print(\" bob = \" + str(mostrabob))"
   ]
  },
  {
   "cell_type": "code",
   "execution_count": 700,
   "metadata": {},
   "outputs": [
    {
     "name": "stderr",
     "output_type": "stream",
     "text": [
      "<ipython-input-691-44f94a42741e>:9: RuntimeWarning: divide by zero encountered in remainder\n",
      "  i = np.mod(i, len(b1))\n"
     ]
    },
    {
     "ename": "IndexError",
     "evalue": "pop from empty list",
     "output_type": "error",
     "traceback": [
      "\u001b[1;31m---------------------------------------------------------------------------\u001b[0m",
      "\u001b[1;31mIndexError\u001b[0m                                Traceback (most recent call last)",
      "\u001b[1;32m<ipython-input-700-70d95c1cd4de>\u001b[0m in \u001b[0;36m<module>\u001b[1;34m\u001b[0m\n\u001b[0;32m      6\u001b[0m \u001b[0mselecaobit\u001b[0m \u001b[1;33m=\u001b[0m \u001b[0mrandint\u001b[0m\u001b[1;33m(\u001b[0m\u001b[0mn\u001b[0m\u001b[1;33m,\u001b[0m \u001b[0msize\u001b[0m \u001b[1;33m=\u001b[0m \u001b[0mp\u001b[0m\u001b[1;33m)\u001b[0m\u001b[1;33m\u001b[0m\u001b[1;33m\u001b[0m\u001b[0m\n\u001b[0;32m      7\u001b[0m \u001b[1;33m\u001b[0m\u001b[0m\n\u001b[1;32m----> 8\u001b[1;33m \u001b[0mmostraalice\u001b[0m\u001b[1;33m,\u001b[0m \u001b[0mmostrabob\u001b[0m \u001b[1;33m=\u001b[0m \u001b[0merro\u001b[0m\u001b[1;33m(\u001b[0m\u001b[0malicekey\u001b[0m\u001b[1;33m,\u001b[0m \u001b[0mbobkey\u001b[0m\u001b[1;33m,\u001b[0m \u001b[0mselecaobit\u001b[0m\u001b[1;33m)\u001b[0m\u001b[1;33m\u001b[0m\u001b[1;33m\u001b[0m\u001b[0m\n\u001b[0m\u001b[0;32m      9\u001b[0m \u001b[0mprint\u001b[0m\u001b[1;33m(\u001b[0m\u001b[1;34m\" alice = \"\u001b[0m \u001b[1;33m+\u001b[0m \u001b[0mstr\u001b[0m\u001b[1;33m(\u001b[0m\u001b[0mmostraalice\u001b[0m\u001b[1;33m)\u001b[0m\u001b[1;33m)\u001b[0m\u001b[1;33m\u001b[0m\u001b[1;33m\u001b[0m\u001b[0m\n\u001b[0;32m     10\u001b[0m \u001b[0mprint\u001b[0m\u001b[1;33m(\u001b[0m\u001b[1;34m\" bob = \"\u001b[0m \u001b[1;33m+\u001b[0m \u001b[0mstr\u001b[0m\u001b[1;33m(\u001b[0m\u001b[0mmostrabob\u001b[0m\u001b[1;33m)\u001b[0m\u001b[1;33m)\u001b[0m\u001b[1;33m\u001b[0m\u001b[1;33m\u001b[0m\u001b[0m\n",
      "\u001b[1;32m<ipython-input-691-44f94a42741e>\u001b[0m in \u001b[0;36merro\u001b[1;34m(b1, b2, size)\u001b[0m\n\u001b[0;32m      8\u001b[0m     \u001b[1;32mfor\u001b[0m \u001b[0mi\u001b[0m \u001b[1;32min\u001b[0m \u001b[0msize\u001b[0m\u001b[1;33m:\u001b[0m\u001b[1;33m\u001b[0m\u001b[1;33m\u001b[0m\u001b[0m\n\u001b[0;32m      9\u001b[0m         \u001b[0mi\u001b[0m \u001b[1;33m=\u001b[0m \u001b[0mnp\u001b[0m\u001b[1;33m.\u001b[0m\u001b[0mmod\u001b[0m\u001b[1;33m(\u001b[0m\u001b[0mi\u001b[0m\u001b[1;33m,\u001b[0m \u001b[0mlen\u001b[0m\u001b[1;33m(\u001b[0m\u001b[0mb1\u001b[0m\u001b[1;33m)\u001b[0m\u001b[1;33m)\u001b[0m\u001b[1;33m\u001b[0m\u001b[1;33m\u001b[0m\u001b[0m\n\u001b[1;32m---> 10\u001b[1;33m         \u001b[0me1\u001b[0m\u001b[1;33m.\u001b[0m\u001b[0mappend\u001b[0m\u001b[1;33m(\u001b[0m\u001b[0mb1\u001b[0m\u001b[1;33m.\u001b[0m\u001b[0mpop\u001b[0m\u001b[1;33m(\u001b[0m\u001b[0mi\u001b[0m\u001b[1;33m)\u001b[0m\u001b[1;33m)\u001b[0m\u001b[1;33m\u001b[0m\u001b[1;33m\u001b[0m\u001b[0m\n\u001b[0m\u001b[0;32m     11\u001b[0m     \u001b[1;32mfor\u001b[0m \u001b[0mi\u001b[0m \u001b[1;32min\u001b[0m \u001b[0msize\u001b[0m\u001b[1;33m:\u001b[0m\u001b[1;33m\u001b[0m\u001b[1;33m\u001b[0m\u001b[0m\n\u001b[0;32m     12\u001b[0m         \u001b[0mi\u001b[0m \u001b[1;33m=\u001b[0m \u001b[0mnp\u001b[0m\u001b[1;33m.\u001b[0m\u001b[0mmod\u001b[0m\u001b[1;33m(\u001b[0m\u001b[0mi\u001b[0m\u001b[1;33m,\u001b[0m \u001b[0mlen\u001b[0m\u001b[1;33m(\u001b[0m\u001b[0mb2\u001b[0m\u001b[1;33m)\u001b[0m\u001b[1;33m)\u001b[0m\u001b[1;33m\u001b[0m\u001b[1;33m\u001b[0m\u001b[0m\n",
      "\u001b[1;31mIndexError\u001b[0m: pop from empty list"
     ]
    }
   ],
   "source": [
    "alicekey = fxor(mostraalice)\n",
    "bobkey = fxor(mostrabob)\n",
    "\n",
    "p = 10  #amostra\n",
    "\n",
    "selecaobit = randint(n, size = p)\n",
    "\n",
    "mostraalice, mostrabob = erro(alicekey, bobkey, selecaobit)\n",
    "print(\" alice = \" + str(mostraalice))\n",
    "print(\" bob = \" + str(mostrabob))"
   ]
  },
  {
   "cell_type": "code",
   "execution_count": null,
   "metadata": {},
   "outputs": [],
   "source": []
  },
  {
   "cell_type": "code",
   "execution_count": null,
   "metadata": {},
   "outputs": [],
   "source": []
  }
 ],
 "metadata": {
  "kernelspec": {
   "display_name": "Python 3",
   "language": "python",
   "name": "python3"
  },
  "language_info": {
   "codemirror_mode": {
    "name": "ipython",
    "version": 3
   },
   "file_extension": ".py",
   "mimetype": "text/x-python",
   "name": "python",
   "nbconvert_exporter": "python",
   "pygments_lexer": "ipython3",
   "version": "3.8.3"
  }
 },
 "nbformat": 4,
 "nbformat_minor": 4
}
